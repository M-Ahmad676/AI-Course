{
 "cells": [
  {
   "cell_type": "markdown",
   "metadata": {},
   "source": [
    "## Mathematics"
   ]
  },
  {
   "cell_type": "code",
   "execution_count": 13,
   "metadata": {},
   "outputs": [
    {
     "name": "stdout",
     "output_type": "stream",
     "text": [
      "[ 4  7 11  9]\n",
      "[-1  2  6  4]\n",
      "[ 6 15 27 21]\n",
      "[1.  2.5 4.5 3.5]\n",
      "[ 4 25 81 49]\n",
      "[ 5 10 15 21]\n"
     ]
    },
    {
     "data": {
      "text/plain": [
       "np.int64(183)"
      ]
     },
     "execution_count": 13,
     "metadata": {},
     "output_type": "execute_result"
    }
   ],
   "source": [
    "import numpy as np\n",
    "\n",
    "x = np.array([2,5,9,7])\n",
    "y = np.array([3,5,6,14])\n",
    "# Basic arithematic operations\n",
    "print(x + 2)\n",
    "print(x - 3)\n",
    "print(x * 3)\n",
    "print(x / 2)\n",
    "print(x**2)\n",
    "print(x + y)"
   ]
  },
  {
   "cell_type": "code",
   "execution_count": 11,
   "metadata": {},
   "outputs": [
    {
     "data": {
      "text/plain": [
       "array([ 0.90929743, -0.95892427,  0.41211849,  0.6569866 ])"
      ]
     },
     "execution_count": 11,
     "metadata": {},
     "output_type": "execute_result"
    }
   ],
   "source": [
    "np.sin(x)\n",
    "np.cos(x)\n",
    "np.tan(x)"
   ]
  },
  {
   "cell_type": "code",
   "execution_count": 14,
   "metadata": {},
   "outputs": [
    {
     "data": {
      "text/plain": [
       "array([[ 58,  10],\n",
       "       [217,  45]])"
      ]
     },
     "execution_count": 14,
     "metadata": {},
     "output_type": "execute_result"
    }
   ],
   "source": [
    "a = np.array([[2,6],\n",
    "              [13,19]])\n",
    "b = np.array([[5,2],\n",
    "              [8,1]])\n",
    "np.matmul(a,b)"
   ]
  }
 ],
 "metadata": {
  "kernelspec": {
   "display_name": "Python 3",
   "language": "python",
   "name": "python3"
  },
  "language_info": {
   "codemirror_mode": {
    "name": "ipython",
    "version": 3
   },
   "file_extension": ".py",
   "mimetype": "text/x-python",
   "name": "python",
   "nbconvert_exporter": "python",
   "pygments_lexer": "ipython3",
   "version": "3.13.3"
  }
 },
 "nbformat": 4,
 "nbformat_minor": 2
}
