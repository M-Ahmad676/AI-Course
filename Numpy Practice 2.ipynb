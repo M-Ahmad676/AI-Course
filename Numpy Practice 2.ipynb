{
 "cells": [
  {
   "cell_type": "markdown",
   "metadata": {},
   "source": [
    "## Mathematics"
   ]
  },
  {
   "cell_type": "code",
   "execution_count": 13,
   "metadata": {},
   "outputs": [
    {
     "name": "stdout",
     "output_type": "stream",
     "text": [
      "[ 4  7 11  9]\n",
      "[-1  2  6  4]\n",
      "[ 6 15 27 21]\n",
      "[1.  2.5 4.5 3.5]\n",
      "[ 4 25 81 49]\n",
      "[ 5 10 15 21]\n"
     ]
    },
    {
     "data": {
      "text/plain": [
       "np.int64(183)"
      ]
     },
     "execution_count": 13,
     "metadata": {},
     "output_type": "execute_result"
    }
   ],
   "source": [
    "import numpy as np\n",
    "\n",
    "x = np.array([2,5,9,7])\n",
    "y = np.array([3,5,6,14])\n",
    "# Basic arithematic operations\n",
    "print(x + 2)\n",
    "print(x - 3)\n",
    "print(x * 3)\n",
    "print(x / 2)\n",
    "print(x**2)\n",
    "print(x + y)"
   ]
  },
  {
   "cell_type": "code",
   "execution_count": 11,
   "metadata": {},
   "outputs": [
    {
     "data": {
      "text/plain": [
       "array([ 0.90929743, -0.95892427,  0.41211849,  0.6569866 ])"
      ]
     },
     "execution_count": 11,
     "metadata": {},
     "output_type": "execute_result"
    }
   ],
   "source": [
    "np.sin(x)\n",
    "np.cos(x)\n",
    "np.tan(x)"
   ]
  },
  {
   "cell_type": "code",
   "execution_count": 14,
   "metadata": {},
   "outputs": [
    {
     "data": {
      "text/plain": [
       "array([[ 58,  10],\n",
       "       [217,  45]])"
      ]
     },
     "execution_count": 14,
     "metadata": {},
     "output_type": "execute_result"
    }
   ],
   "source": [
    "a = np.array([[2,6],\n",
    "              [13,19]])\n",
    "b = np.array([[5,2],\n",
    "              [8,1]])\n",
    "np.matmul(a,b)"
   ]
  },
  {
   "cell_type": "markdown",
   "metadata": {},
   "source": [
    "## Statistics"
   ]
  },
  {
   "cell_type": "code",
   "execution_count": 3,
   "metadata": {},
   "outputs": [
    {
     "name": "stdout",
     "output_type": "stream",
     "text": [
      "[[ 3  2  1]\n",
      " [ 8  9 11]\n",
      " [11 19 23]]\n"
     ]
    },
    {
     "data": {
      "text/plain": [
       "np.float64(-79.00000000000007)"
      ]
     },
     "execution_count": 3,
     "metadata": {},
     "output_type": "execute_result"
    }
   ],
   "source": [
    "import numpy as np\n",
    "arr1 = np.array([[3,2,1],\n",
    "                 [8,9,11],\n",
    "                 [11,19,23]])\n",
    "print(arr1)\n",
    "np.linalg.det(arr1)"
   ]
  },
  {
   "cell_type": "code",
   "execution_count": 9,
   "metadata": {},
   "outputs": [
    {
     "data": {
      "text/plain": [
       "np.int64(86)"
      ]
     },
     "execution_count": 9,
     "metadata": {},
     "output_type": "execute_result"
    }
   ],
   "source": [
    "stats = np.array([[12,8,44],[10,9,3]])\n",
    "\n",
    "np.min(stats)\n",
    "\n",
    "np.max(stats, axis=1) #max row wise\n",
    "np.max(stats, axis=0) #max column wise\n",
    "\n",
    "np.sum(stats)"
   ]
  },
  {
   "cell_type": "markdown",
   "metadata": {},
   "source": [
    "## Reorganizing Array"
   ]
  },
  {
   "cell_type": "code",
   "execution_count": 16,
   "metadata": {},
   "outputs": [
    {
     "name": "stdout",
     "output_type": "stream",
     "text": [
      "[[1 4]\n",
      " [4 2]\n",
      " [9 1]]\n"
     ]
    }
   ],
   "source": [
    "arr1 = np.array([[1,4,4],\n",
    "                 [2,9,1]])\n",
    "arr2 = np.reshape(arr1,(3,2))\n",
    "print(arr2)"
   ]
  },
  {
   "cell_type": "code",
   "execution_count": 20,
   "metadata": {},
   "outputs": [
    {
     "data": {
      "text/plain": [
       "array([[1, 2, 3],\n",
       "       [4, 5, 6],\n",
       "       [1, 0, 9],\n",
       "       [1, 2, 3],\n",
       "       [4, 5, 6]])"
      ]
     },
     "execution_count": 20,
     "metadata": {},
     "output_type": "execute_result"
    }
   ],
   "source": [
    "v1 = np.array([1,0,9])\n",
    "v2 = np.array([[1,2,3],\n",
    "               [4,5,6]])\n",
    "np.vstack([v2,v1,v2])"
   ]
  },
  {
   "cell_type": "code",
   "execution_count": null,
   "metadata": {},
   "outputs": [],
   "source": []
  }
 ],
 "metadata": {
  "kernelspec": {
   "display_name": "Python 3",
   "language": "python",
   "name": "python3"
  },
  "language_info": {
   "codemirror_mode": {
    "name": "ipython",
    "version": 3
   },
   "file_extension": ".py",
   "mimetype": "text/x-python",
   "name": "python",
   "nbconvert_exporter": "python",
   "pygments_lexer": "ipython3",
   "version": "3.13.3"
  }
 },
 "nbformat": 4,
 "nbformat_minor": 2
}
