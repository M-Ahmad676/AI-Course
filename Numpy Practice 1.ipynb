{
 "cells": [
  {
   "cell_type": "code",
   "execution_count": 6,
   "metadata": {},
   "outputs": [
    {
     "name": "stdout",
     "output_type": "stream",
     "text": [
      "[1 3 6]\n"
     ]
    },
    {
     "data": {
      "text/plain": [
       "numpy.dtype"
      ]
     },
     "execution_count": 6,
     "metadata": {},
     "output_type": "execute_result"
    }
   ],
   "source": [
    "import numpy as np\n",
    "\n",
    "b = [1,3,6]\n",
    "\n",
    "type(b)\n",
    "npArray = np.array(b)\n",
    "print(npArray)\n",
    "type(npArray)\n",
    "np.dtype"
   ]
  },
  {
   "cell_type": "code",
   "execution_count": 14,
   "metadata": {},
   "outputs": [
    {
     "name": "stdout",
     "output_type": "stream",
     "text": [
      "[[2 3 5 6 6]\n",
      " [4 5 7 8 9]]\n",
      "Dimension: 2\n",
      "Shape of Array (Rows, Column) (2, 5)\n",
      "Item Size: 4\n",
      "Total number of Bytes: 40\n"
     ]
    }
   ],
   "source": [
    "a = np.array([[2,3,5,6,6],[4,5,7,8,9]], dtype=np.int32)\n",
    "print(a)\n",
    "print(\"Dimension:\",a.ndim)\n",
    "print(\"Shape of Array (Rows, Column)\",a.shape)\n",
    "print(\"Item Size:\",a.itemsize)\n",
    "print(\"Total number of Bytes:\",a.nbytes)\n"
   ]
  },
  {
   "cell_type": "code",
   "execution_count": 22,
   "metadata": {},
   "outputs": [
    {
     "name": "stdout",
     "output_type": "stream",
     "text": [
      "[[2 3 4 5 6]\n",
      " [7 8 3 2 8]]\n",
      "Accessing Element of Array: 8\n",
      "Accessing Element of Array: 2\n",
      "Accessing Element of Array: 2\n",
      "Get Specific Row: [7 8 3 2 8]\n",
      "Get Specific Column: [4 3]\n",
      "[[ 2  3 16  5  6]\n",
      " [ 7  8  3  2  8]]\n"
     ]
    }
   ],
   "source": [
    "x = np.array([[2,3,4,5,6],[7,8,3,2,8]])\n",
    "print(x)\n",
    "print(\"Accessing Element of Array:\", x[1][4])\n",
    "print(\"Accessing Element of Array:\", x[1,3])\n",
    "print(\"Accessing Element of Array:\", x[1,3])\n",
    "print(\"Get Specific Row:\", x[1,:])\n",
    "print(\"Get Specific Column:\", x[:,2])\n",
    "x[0,2] = 16\n",
    "print(x)\n",
    "\n"
   ]
  },
  {
   "cell_type": "code",
   "execution_count": 44,
   "metadata": {},
   "outputs": [
    {
     "name": "stdout",
     "output_type": "stream",
     "text": [
      "[[[ 3  6]\n",
      "  [10 11]]\n",
      "\n",
      " [[ 8  9]\n",
      "  [13 18]]]\n",
      "Shape of Array: (2, 2, 2)\n",
      "Dimension of Array: 3\n",
      "1st layer , 2nd row, 2nd column: 11\n",
      "1st layer , 2nd row, 2nd column: 6\n",
      "Accessing: [[3 6]\n",
      " [8 9]]\n",
      "Accessing: [[10 11]\n",
      " [13 18]]\n",
      "Accessing: [[ 3 10]\n",
      " [ 8 13]]\n",
      "Accessing: [[ 6 11]\n",
      " [ 9 18]]\n",
      "Replacing Elements in an Array\n",
      "[[[ 4  8]\n",
      "  [10 11]]\n",
      "\n",
      " [[ 6 12]\n",
      "  [13 18]]]\n",
      "[[[ 4  5]\n",
      "  [10 10]]\n",
      "\n",
      " [[ 6  7]\n",
      "  [13 14]]]\n"
     ]
    }
   ],
   "source": [
    "c = np.array([[[3,6],[10,11]],[[8,9],[13,18]]])\n",
    "print(c)\n",
    "print(\"Shape of Array:\", c.shape)\n",
    "print(\"Dimension of Array:\", c.ndim)\n",
    "print(\"1st layer , 2nd row, 2nd column:\", c[0][1][1])\n",
    "print(\"1st layer , 2nd row, 2nd column:\", c[0,0,1])\n",
    "print(\"Accessing:\", c[:,0,:])\n",
    "print(\"Accessing:\", c[:,1,:])\n",
    "print(\"Accessing:\", c[:,:,0])\n",
    "print(\"Accessing:\", c[:,:,1])\n",
    "\n",
    "print(\"Replacing Elements in an Array\")\n",
    "\n",
    "c[:,0,:] = [[4,8],[6,12]]\n",
    "\n",
    "print(c)\n",
    "\n",
    "c[:,:,1] = [[5,10],[7,14]]\n",
    "\n",
    "print(c)\n"
   ]
  },
  {
   "cell_type": "markdown",
   "metadata": {},
   "source": [
    "##INITIALIZING ARRAYS\n"
   ]
  },
  {
   "cell_type": "code",
   "execution_count": 9,
   "metadata": {},
   "outputs": [
    {
     "data": {
      "text/plain": [
       "array([[5, 5, 5],\n",
       "       [5, 5, 5]])"
      ]
     },
     "execution_count": 9,
     "metadata": {},
     "output_type": "execute_result"
    }
   ],
   "source": [
    "import numpy as np\n",
    "\n",
    "#create arrays of zero\n",
    "np.zeros((3,2))\n",
    "\n",
    "x = [[78,98,64],\n",
    "     [65,34,89]]\n",
    "\n",
    "# create an array of ones\n",
    "np.ones((4,2,2), dtype='int32')\n",
    "\n",
    "# create an array of any number\n",
    "np.full((3,3), 78) \n",
    "\n",
    "#create a copy of array with any number\n",
    "np.full_like(x, 5)\n"
   ]
  },
  {
   "cell_type": "code",
   "execution_count": 13,
   "metadata": {},
   "outputs": [
    {
     "data": {
      "text/plain": [
       "array([[1., 0., 0., 0., 0., 0.],\n",
       "       [0., 1., 0., 0., 0., 0.],\n",
       "       [0., 0., 1., 0., 0., 0.],\n",
       "       [0., 0., 0., 1., 0., 0.],\n",
       "       [0., 0., 0., 0., 1., 0.],\n",
       "       [0., 0., 0., 0., 0., 1.]])"
      ]
     },
     "execution_count": 13,
     "metadata": {},
     "output_type": "execute_result"
    }
   ],
   "source": [
    "#generate a random array of size 3x3 \n",
    "np.random.rand(3,3)\n",
    "\n",
    "#generate a random array of size 3x3 from range 1 to 99\n",
    "np.random.randint(1,99, size=(3,3))\n",
    "\n",
    "#creates an identity matrix of size 6x6\n",
    "np.identity(6)"
   ]
  },
  {
   "cell_type": "code",
   "execution_count": 18,
   "metadata": {},
   "outputs": [
    {
     "name": "stdout",
     "output_type": "stream",
     "text": [
      "[[2 4]\n",
      " [2 4]\n",
      " [4 2]\n",
      " [4 2]]\n"
     ]
    }
   ],
   "source": [
    "# repeat an array\n",
    "arr = np.array([[2,4],\n",
    "               [4,2]])\n",
    "r1 = np.repeat(arr,2,axis=0)\n",
    "print(r1)"
   ]
  },
  {
   "cell_type": "code",
   "execution_count": 26,
   "metadata": {},
   "outputs": [
    {
     "name": "stdout",
     "output_type": "stream",
     "text": [
      "[[1. 1. 1. 1. 1.]\n",
      " [1. 1. 1. 1. 1.]\n",
      " [1. 1. 1. 1. 1.]\n",
      " [1. 1. 1. 1. 1.]\n",
      " [1. 1. 1. 1. 1.]]\n",
      "[[ 0.  0.  0.]\n",
      " [ 0.  0. 89.]\n",
      " [ 0.  0.  0.]]\n",
      "[[ 1.  1.  1.  1.  1.]\n",
      " [ 1.  0.  0.  0.  1.]\n",
      " [ 1.  0.  0. 89.  1.]\n",
      " [ 1.  0.  0.  0.  1.]\n",
      " [ 1.  1.  1.  1.  1.]]\n"
     ]
    }
   ],
   "source": [
    "output = np.ones((5,5))\n",
    "print(output)\n",
    "\n",
    "z = np.zeros((3,3))\n",
    "z[1,2] = 89\n",
    "print(z)\n",
    "\n",
    "output[1:-1, 1:-1] = z\n",
    "print(output)"
   ]
  },
  {
   "cell_type": "code",
   "execution_count": 2,
   "metadata": {},
   "outputs": [
    {
     "name": "stdout",
     "output_type": "stream",
     "text": [
      "[100   3   1]\n"
     ]
    }
   ],
   "source": [
    "import numpy as np\n",
    "a = np.array([0,3,1])\n",
    "b = a.copy()\n",
    "b[0] = 100\n",
    "print(b)"
   ]
  }
 ],
 "metadata": {
  "kernelspec": {
   "display_name": "Python 3",
   "language": "python",
   "name": "python3"
  },
  "language_info": {
   "codemirror_mode": {
    "name": "ipython",
    "version": 3
   },
   "file_extension": ".py",
   "mimetype": "text/x-python",
   "name": "python",
   "nbconvert_exporter": "python",
   "pygments_lexer": "ipython3",
   "version": "3.13.3"
  }
 },
 "nbformat": 4,
 "nbformat_minor": 2
}
